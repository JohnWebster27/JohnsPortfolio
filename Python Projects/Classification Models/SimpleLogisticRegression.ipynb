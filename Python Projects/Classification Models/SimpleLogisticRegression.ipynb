{
 "cells": [
  {
   "cell_type": "markdown",
   "id": "ac989184-fbea-447a-bee9-becc86d9efc3",
   "metadata": {},
   "source": [
    "# Simple Logistic Regression\n",
    "## Created by John Webster on 09/29/2025\n",
    "\n",
    "### Goal: The aim of this notebook is to create and implement a simple logistic regression model using Scikit-learn functionality to assess we can use age to predict whether or not someone makes over 50k annually in the dataset. Final thoughts on the model implementation will be detailed at the bottom of this notebook.\n",
    "\n",
    "Please feel free to share your thoughts with me on this simple model implementation. I am always looking to improve and would greatly appreciate your feedback. Thank you for taking time to look at this notebook."
   ]
  },
  {
   "cell_type": "code",
   "execution_count": 111,
   "id": "4cd3e09d-fe17-477d-ad9b-6c1b27d86e5b",
   "metadata": {},
   "outputs": [],
   "source": [
    "# Necessary imports to run this notebook\n",
    "import pandas as pd\n",
    "import numpy as np\n",
    "import matplotlib.pyplot as plt\n",
    "from sklearn.model_selection import train_test_split\n",
    "from sklearn.preprocessing import StandardScaler\n",
    "from sklearn.preprocessing import LabelEncoder\n",
    "from sklearn.linear_model import LogisticRegression\n",
    "from sklearn.metrics import confusion_matrix\n",
    "from sklearn.metrics import ConfusionMatrixDisplay\n",
    "from sklearn.metrics import precision_score\n",
    "from sklearn.metrics import recall_score\n",
    "from sklearn.metrics import accuracy_score\n",
    "import statsmodels.api as sm"
   ]
  },
  {
   "cell_type": "markdown",
   "id": "b3971349-cbe4-4d5f-af04-bc250888c084",
   "metadata": {},
   "source": [
    "## About the data:"
   ]
  },
  {
   "cell_type": "code",
   "execution_count": 64,
   "id": "f5769025-3101-4088-b857-48d9f9c9d770",
   "metadata": {},
   "outputs": [],
   "source": [
    "#import the data\n",
    "adults = pd.DataFrame(pd.read_csv(\"adult11.csv\"))"
   ]
  },
  {
   "cell_type": "code",
   "execution_count": 65,
   "id": "01c3c6bb-3f86-46d4-8c0f-418f9a8105dd",
   "metadata": {},
   "outputs": [
    {
     "name": "stdout",
     "output_type": "stream",
     "text": [
      "<class 'pandas.core.frame.DataFrame'>\n",
      "RangeIndex: 48842 entries, 0 to 48841\n",
      "Data columns (total 15 columns):\n",
      " #   Column          Non-Null Count  Dtype \n",
      "---  ------          --------------  ----- \n",
      " 0   age             48842 non-null  int64 \n",
      " 1   workclass       48842 non-null  object\n",
      " 2   fnlwgt          48842 non-null  int64 \n",
      " 3   education       48842 non-null  object\n",
      " 4   education-num   48842 non-null  int64 \n",
      " 5   marital-status  48842 non-null  object\n",
      " 6   occupation      48842 non-null  object\n",
      " 7   relationship    48842 non-null  object\n",
      " 8   race            48842 non-null  object\n",
      " 9   gender          48842 non-null  object\n",
      " 10  capital-gain    48842 non-null  int64 \n",
      " 11  capital-loss    48842 non-null  int64 \n",
      " 12  hours-per-week  48842 non-null  int64 \n",
      " 13  native-country  48842 non-null  object\n",
      " 14  salary          48842 non-null  object\n",
      "dtypes: int64(6), object(9)\n",
      "memory usage: 5.6+ MB\n"
     ]
    },
    {
     "data": {
      "text/html": [
       "<div>\n",
       "<style scoped>\n",
       "    .dataframe tbody tr th:only-of-type {\n",
       "        vertical-align: middle;\n",
       "    }\n",
       "\n",
       "    .dataframe tbody tr th {\n",
       "        vertical-align: top;\n",
       "    }\n",
       "\n",
       "    .dataframe thead th {\n",
       "        text-align: right;\n",
       "    }\n",
       "</style>\n",
       "<table border=\"1\" class=\"dataframe\">\n",
       "  <thead>\n",
       "    <tr style=\"text-align: right;\">\n",
       "      <th></th>\n",
       "      <th>age</th>\n",
       "      <th>fnlwgt</th>\n",
       "      <th>education-num</th>\n",
       "      <th>capital-gain</th>\n",
       "      <th>capital-loss</th>\n",
       "      <th>hours-per-week</th>\n",
       "    </tr>\n",
       "  </thead>\n",
       "  <tbody>\n",
       "    <tr>\n",
       "      <th>count</th>\n",
       "      <td>48842.000000</td>\n",
       "      <td>4.884200e+04</td>\n",
       "      <td>48842.000000</td>\n",
       "      <td>48842.000000</td>\n",
       "      <td>48842.000000</td>\n",
       "      <td>48842.000000</td>\n",
       "    </tr>\n",
       "    <tr>\n",
       "      <th>mean</th>\n",
       "      <td>38.643585</td>\n",
       "      <td>1.896641e+05</td>\n",
       "      <td>10.078089</td>\n",
       "      <td>1079.067626</td>\n",
       "      <td>87.502314</td>\n",
       "      <td>40.422382</td>\n",
       "    </tr>\n",
       "    <tr>\n",
       "      <th>std</th>\n",
       "      <td>13.710510</td>\n",
       "      <td>1.056040e+05</td>\n",
       "      <td>2.570973</td>\n",
       "      <td>7452.019058</td>\n",
       "      <td>403.004552</td>\n",
       "      <td>12.391444</td>\n",
       "    </tr>\n",
       "    <tr>\n",
       "      <th>min</th>\n",
       "      <td>17.000000</td>\n",
       "      <td>1.228500e+04</td>\n",
       "      <td>1.000000</td>\n",
       "      <td>0.000000</td>\n",
       "      <td>0.000000</td>\n",
       "      <td>1.000000</td>\n",
       "    </tr>\n",
       "    <tr>\n",
       "      <th>25%</th>\n",
       "      <td>28.000000</td>\n",
       "      <td>1.175505e+05</td>\n",
       "      <td>9.000000</td>\n",
       "      <td>0.000000</td>\n",
       "      <td>0.000000</td>\n",
       "      <td>40.000000</td>\n",
       "    </tr>\n",
       "    <tr>\n",
       "      <th>50%</th>\n",
       "      <td>37.000000</td>\n",
       "      <td>1.781445e+05</td>\n",
       "      <td>10.000000</td>\n",
       "      <td>0.000000</td>\n",
       "      <td>0.000000</td>\n",
       "      <td>40.000000</td>\n",
       "    </tr>\n",
       "    <tr>\n",
       "      <th>75%</th>\n",
       "      <td>48.000000</td>\n",
       "      <td>2.376420e+05</td>\n",
       "      <td>12.000000</td>\n",
       "      <td>0.000000</td>\n",
       "      <td>0.000000</td>\n",
       "      <td>45.000000</td>\n",
       "    </tr>\n",
       "    <tr>\n",
       "      <th>max</th>\n",
       "      <td>90.000000</td>\n",
       "      <td>1.490400e+06</td>\n",
       "      <td>16.000000</td>\n",
       "      <td>99999.000000</td>\n",
       "      <td>4356.000000</td>\n",
       "      <td>99.000000</td>\n",
       "    </tr>\n",
       "  </tbody>\n",
       "</table>\n",
       "</div>"
      ],
      "text/plain": [
       "                age        fnlwgt  education-num  capital-gain  capital-loss  \\\n",
       "count  48842.000000  4.884200e+04   48842.000000  48842.000000  48842.000000   \n",
       "mean      38.643585  1.896641e+05      10.078089   1079.067626     87.502314   \n",
       "std       13.710510  1.056040e+05       2.570973   7452.019058    403.004552   \n",
       "min       17.000000  1.228500e+04       1.000000      0.000000      0.000000   \n",
       "25%       28.000000  1.175505e+05       9.000000      0.000000      0.000000   \n",
       "50%       37.000000  1.781445e+05      10.000000      0.000000      0.000000   \n",
       "75%       48.000000  2.376420e+05      12.000000      0.000000      0.000000   \n",
       "max       90.000000  1.490400e+06      16.000000  99999.000000   4356.000000   \n",
       "\n",
       "       hours-per-week  \n",
       "count    48842.000000  \n",
       "mean        40.422382  \n",
       "std         12.391444  \n",
       "min          1.000000  \n",
       "25%         40.000000  \n",
       "50%         40.000000  \n",
       "75%         45.000000  \n",
       "max         99.000000  "
      ]
     },
     "execution_count": 65,
     "metadata": {},
     "output_type": "execute_result"
    }
   ],
   "source": [
    "#Exploratory Analysis\n",
    "adults.info() #15 columns in the data, no null values\n",
    "adults.describe() #python recognizes 6 numerical columns"
   ]
  },
  {
   "cell_type": "code",
   "execution_count": 66,
   "id": "12912d62-f9a7-46f4-9010-52f671722195",
   "metadata": {},
   "outputs": [
    {
     "data": {
      "text/plain": [
       "0        <=50K\n",
       "1        <=50K\n",
       "2         >50K\n",
       "3         >50K\n",
       "4        <=50K\n",
       "         ...  \n",
       "48837    <=50K\n",
       "48838     >50K\n",
       "48839    <=50K\n",
       "48840    <=50K\n",
       "48841     >50K\n",
       "Name: salary, Length: 48842, dtype: object"
      ]
     },
     "execution_count": 66,
     "metadata": {},
     "output_type": "execute_result"
    }
   ],
   "source": [
    "#Glance at the target variable we will be trying to predict\n",
    "adults['salary'] #Binary outcome with 76% making under 50K and 24% making greater than 50k"
   ]
  },
  {
   "cell_type": "code",
   "execution_count": 67,
   "id": "3fcb8e43-cc9d-497c-a62f-c5a7d9bdf124",
   "metadata": {},
   "outputs": [
    {
     "data": {
      "image/png": "[encoded data removed]",
      "text/plain": [
       "<Figure size 640x480 with 1 Axes>"
      ]
     },
     "metadata": {},
     "output_type": "display_data"
    }
   ],
   "source": [
    "# Glance at our predictor variable to see its distribution\n",
    "#create histogram\n",
    "plt.hist(adults['age'], bins = 15, color = 'violet', edgecolor = 'black')\n",
    "\n",
    "#Add labels and title\n",
    "plt.xlabel(\"Age\")\n",
    "plt.ylabel(\"Frequency\")\n",
    "plt.title(\"Distribution of Age in Income Data\")\n",
    "\n",
    "#display\n",
    "plt.show()"
   ]
  },
  {
   "cell_type": "code",
   "execution_count": 69,
   "id": "a9b6f99d-3eab-4018-bce5-ce637ea1ba5b",
   "metadata": {},
   "outputs": [],
   "source": [
    "#Create Feature Data\n",
    "feature = pd.DataFrame(adults['age'])\n",
    "\n",
    "#Create target variable Series\n",
    "target = pd.Series(adults['salary'])"
   ]
  },
  {
   "cell_type": "code",
   "execution_count": 70,
   "id": "a60ce561-fadd-4725-99bd-404bd0d4d462",
   "metadata": {},
   "outputs": [],
   "source": [
    "# Create training and testing data\n",
    "x_train, X_test, y_train, Y_test = train_test_split(feature, target, test_size=0.2, stratify=target, random_state=42)"
   ]
  },
  {
   "cell_type": "code",
   "execution_count": 71,
   "id": "3a3e3277-8cf6-4725-a975-40a6ec74f4a3",
   "metadata": {},
   "outputs": [],
   "source": [
    "#Scale the feature data with StandardScaler\n",
    "SS = StandardScaler()\n",
    "x_train = SS.fit_transform(x_train)\n",
    "X_test = SS.transform(X_test)"
   ]
  },
  {
   "cell_type": "code",
   "execution_count": 72,
   "id": "30f1a058-043a-44b7-bb68-9cb7e709d7ff",
   "metadata": {},
   "outputs": [],
   "source": [
    "#Label encode the target variable to turn it into 0's and 1's\n",
    "LE = LabelEncoder()\n",
    "y_train = LE.fit_transform(y_train)\n",
    "Y_test = LE.transform(Y_test)"
   ]
  },
  {
   "cell_type": "code",
   "execution_count": 73,
   "id": "01bc9ec0-d196-4979-b4dd-386c12f8ef60",
   "metadata": {},
   "outputs": [],
   "source": [
    "# Fit the logistic regression model\n",
    "LR = LogisticRegression()\n",
    "simplemodel = LR.fit(x_train, y_train)"
   ]
  },
  {
   "cell_type": "markdown",
   "id": "a66a0512-a5ba-40d8-b9c8-b41217646602",
   "metadata": {},
   "source": [
    "## Test the Simple Logistic Regression Model"
   ]
  },
  {
   "cell_type": "code",
   "execution_count": 75,
   "id": "75f05a41-bc85-483a-82a7-565c32c80434",
   "metadata": {},
   "outputs": [],
   "source": [
    "predictions = simplemodel.predict(X_test)\n",
    "probabilities = simplemodel.predict_proba(X_test)"
   ]
  },
  {
   "cell_type": "code",
   "execution_count": 95,
   "id": "452e3e84-d95f-48c8-b288-af5c35d2f4d9",
   "metadata": {},
   "outputs": [
    {
     "data": {
      "image/png": "[encoded data removed]",
      "text/plain": [
       "<Figure size 640x480 with 2 Axes>"
      ]
     },
     "metadata": {},
     "output_type": "display_data"
    }
   ],
   "source": [
    "# Display results with Confusion Matrix\n",
    "cmatr = ConfusionMatrixDisplay.from_estimator(simplemodel, X_test, Y_test, cmap='Blues')\n",
    "plt.show()"
   ]
  },
  {
   "cell_type": "code",
   "execution_count": 107,
   "id": "7d108b5f-e92f-4c67-9b1c-42102863abdb",
   "metadata": {},
   "outputs": [
    {
     "name": "stdout",
     "output_type": "stream",
     "text": [
      "0.18497109826589594\n",
      "0.013686911890504704\n",
      "0.7495137680417647\n"
     ]
    }
   ],
   "source": [
    "#Summarize the model\n",
    "\n",
    "#Precision - Proportion of true positives amongst total predicted positives.\n",
    "print(precision_score(Y_test, predictions))\n",
    "#Given the model predicted that someone made over 50k annually, 18% of those predictions actually did.\n",
    "\n",
    "#Recall - Proportion of true positives amongst all actual positives.\n",
    "print(recall_score(Y_test, predictions))\n",
    "#Given someone truly made over 50k annually, the model will predict they make over 50k annually 1.3% of the time\n",
    "\n",
    "#Accuracy - Proportion of correctly classified instances\n",
    "print(accuracy_score(Y_test, predictions))\n",
    "#If you were to ask the model to predict whether or not someone made greater than 50K annually, the model would predict correctly 75% of the time."
   ]
  },
  {
   "cell_type": "markdown",
   "id": "c0b9de53-aaad-4080-b82a-d6e19c8b2b36",
   "metadata": {},
   "source": [
    "## Thoughts on the model:\n",
    "If you were to look at accuracy score alone, one would think that the model being correct 75% of the time in its predictions is not bad, but once we\n",
    "take a look at precision and recall scores the model doesn't appear to do such a good job at correctly predicting those that DO make over 50k annually. \n",
    "In the beginning exploratory analysis we saw that there were far more instances of those that make under 50k annually so the model does a decent job at classifying those but due to the limited number of those that made over 50k annually I would suspect that is why the model poorly classifies those. For future consideration, I would say this model is not sufficient in using age alone to predict income group and I would propose adding other feature variables like education level, occupation, marital status, and potentially gender to investigate their roles in helping to more accurately classify individuals income group. "
   ]
  }
 ],
 "metadata": {
  "kernelspec": {
   "display_name": "Python [conda env:base] *",
   "language": "python",
   "name": "conda-base-py"
  },
  "language_info": {
   "codemirror_mode": {
    "name": "ipython",
    "version": 3
   },
   "file_extension": ".py",
   "mimetype": "text/x-python",
   "name": "python",
   "nbconvert_exporter": "python",
   "pygments_lexer": "ipython3",
   "version": "3.12.7"
  }
 },
 "nbformat": 4,
 "nbformat_minor": 5
}
