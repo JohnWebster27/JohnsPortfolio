{
 "cells": [
  {
   "cell_type": "markdown",
   "id": "9820c076-1fec-48ad-a4c2-ea0ad2ad8677",
   "metadata": {},
   "source": [
    "# Analysis of PGA Tour Data from 2015 - 2022\n",
    "\n",
    "This data set was made available from Kaggle thanks to Rob Mulla. My goal for this dataset is to practice some data cleaning and statistical testing.\n",
    "I personally love golf, but I am terrible at it so I really need to dive in and see what the pros do that makes them so good. Personally, I don't think it \n",
    "has anything to do with putting or consistent practice, but instead its probably due to hitting 400 yard bombs and having the newest clubs......or maybe thats what I want it to be cause thats easy....lets find out."
   ]
  },
  {
   "cell_type": "markdown",
   "id": "c6c5e92e-eb3a-446b-b1fc-2710c63911c9",
   "metadata": {},
   "source": [
    "Step 1 - Import necessary packages"
   ]
  },
  {
   "cell_type": "code",
   "execution_count": 47,
   "id": "3b0231a4-0ba8-4c06-94d1-e9d2fdb635af",
   "metadata": {},
   "outputs": [],
   "source": [
    "import pandas as pd\n",
    "import numpy as np\n",
    "import matplotlib.pyplot as plt"
   ]
  },
  {
   "cell_type": "markdown",
   "id": "6f48fd15-f58f-4e2f-ab06-60da0ce7bce4",
   "metadata": {},
   "source": [
    "Step 2 - Load the data"
   ]
  },
  {
   "cell_type": "code",
   "execution_count": 34,
   "id": "4b355282-670a-4914-b917-aeb2ff39674f",
   "metadata": {},
   "outputs": [],
   "source": [
    "golf = pd.read_csv('PGATOUR_data2.csv')\n",
    "golf = golf[~ pd.isnull(golf['Player'])] #filter out rows that don't have any player data"
   ]
  },
  {
   "cell_type": "markdown",
   "id": "f0927b85-c21e-413f-b6f6-af86685127d0",
   "metadata": {},
   "source": [
    "Get a glance at the data"
   ]
  },
  {
   "cell_type": "code",
   "execution_count": 38,
   "id": "ecdae4e0-2c69-40bf-ac5d-f2ac0546afaa",
   "metadata": {},
   "outputs": [
    {
     "data": {
      "text/html": [
       "<div>\n",
       "<style scoped>\n",
       "    .dataframe tbody tr th:only-of-type {\n",
       "        vertical-align: middle;\n",
       "    }\n",
       "\n",
       "    .dataframe tbody tr th {\n",
       "        vertical-align: top;\n",
       "    }\n",
       "\n",
       "    .dataframe thead th {\n",
       "        text-align: right;\n",
       "    }\n",
       "</style>\n",
       "<table border=\"1\" class=\"dataframe\">\n",
       "  <thead>\n",
       "    <tr style=\"text-align: right;\">\n",
       "      <th></th>\n",
       "      <th>EVENTS_PLAYED</th>\n",
       "      <th>POINTS</th>\n",
       "      <th>NUMBER_OF_WINS</th>\n",
       "      <th>NUMBER_OF_TOP_Tens</th>\n",
       "      <th>POINTS_BEHIND_LEAD</th>\n",
       "      <th>ROUNDS_PLAYED</th>\n",
       "      <th>SG_PUTTING_PER_ROUND</th>\n",
       "      <th>TOTAL_SG:PUTTING</th>\n",
       "      <th>MEASURED_ROUNDS</th>\n",
       "      <th>AVG_Driving_DISTANCE</th>\n",
       "      <th>...</th>\n",
       "      <th>AVG_CARRY_DISTANCE</th>\n",
       "      <th>LONGEST_CARRY_DISTANCE</th>\n",
       "      <th>SHORTEST_CARRY_DISTANCE</th>\n",
       "      <th>AVG_SCORE</th>\n",
       "      <th>TOTAL_STROKES</th>\n",
       "      <th>TOTAL_ROUNDS</th>\n",
       "      <th>MAKES_BOGEY%</th>\n",
       "      <th>BOGEYS_MADE</th>\n",
       "      <th>HOLES_PLAYED</th>\n",
       "      <th>AGE</th>\n",
       "    </tr>\n",
       "  </thead>\n",
       "  <tbody>\n",
       "    <tr>\n",
       "      <th>count</th>\n",
       "      <td>195.000000</td>\n",
       "      <td>195.000000</td>\n",
       "      <td>195.000000</td>\n",
       "      <td>195.000000</td>\n",
       "      <td>194.000000</td>\n",
       "      <td>195.000000</td>\n",
       "      <td>195.000000</td>\n",
       "      <td>195.000000</td>\n",
       "      <td>195.000000</td>\n",
       "      <td>195.000000</td>\n",
       "      <td>...</td>\n",
       "      <td>195.000000</td>\n",
       "      <td>195.000000</td>\n",
       "      <td>195.000000</td>\n",
       "      <td>195.000000</td>\n",
       "      <td>195.000000</td>\n",
       "      <td>195.000000</td>\n",
       "      <td>195.000000</td>\n",
       "      <td>195.000000</td>\n",
       "      <td>195.000000</td>\n",
       "      <td>195.000000</td>\n",
       "    </tr>\n",
       "    <tr>\n",
       "      <th>mean</th>\n",
       "      <td>24.174359</td>\n",
       "      <td>745.974359</td>\n",
       "      <td>0.241026</td>\n",
       "      <td>2.651282</td>\n",
       "      <td>4896.262887</td>\n",
       "      <td>78.358974</td>\n",
       "      <td>0.051708</td>\n",
       "      <td>3.111672</td>\n",
       "      <td>59.928205</td>\n",
       "      <td>296.756923</td>\n",
       "      <td>...</td>\n",
       "      <td>278.155385</td>\n",
       "      <td>305.030769</td>\n",
       "      <td>244.854359</td>\n",
       "      <td>70.893369</td>\n",
       "      <td>5328.810256</td>\n",
       "      <td>75.497436</td>\n",
       "      <td>16.483897</td>\n",
       "      <td>222.194872</td>\n",
       "      <td>1359.000000</td>\n",
       "      <td>32.887179</td>\n",
       "    </tr>\n",
       "    <tr>\n",
       "      <th>std</th>\n",
       "      <td>4.151805</td>\n",
       "      <td>700.518059</td>\n",
       "      <td>0.599277</td>\n",
       "      <td>2.201554</td>\n",
       "      <td>608.024609</td>\n",
       "      <td>14.039134</td>\n",
       "      <td>0.313897</td>\n",
       "      <td>18.320074</td>\n",
       "      <td>13.997606</td>\n",
       "      <td>8.191270</td>\n",
       "      <td>...</td>\n",
       "      <td>10.060564</td>\n",
       "      <td>12.552019</td>\n",
       "      <td>13.149478</td>\n",
       "      <td>0.820646</td>\n",
       "      <td>1005.287126</td>\n",
       "      <td>14.465520</td>\n",
       "      <td>2.095008</td>\n",
       "      <td>41.704446</td>\n",
       "      <td>260.378571</td>\n",
       "      <td>5.668469</td>\n",
       "    </tr>\n",
       "    <tr>\n",
       "      <th>min</th>\n",
       "      <td>15.000000</td>\n",
       "      <td>10.000000</td>\n",
       "      <td>0.000000</td>\n",
       "      <td>0.000000</td>\n",
       "      <td>2328.000000</td>\n",
       "      <td>46.000000</td>\n",
       "      <td>-0.750000</td>\n",
       "      <td>-42.673000</td>\n",
       "      <td>30.000000</td>\n",
       "      <td>278.400000</td>\n",
       "      <td>...</td>\n",
       "      <td>249.800000</td>\n",
       "      <td>271.600000</td>\n",
       "      <td>192.800000</td>\n",
       "      <td>68.702000</td>\n",
       "      <td>3261.000000</td>\n",
       "      <td>45.000000</td>\n",
       "      <td>12.200000</td>\n",
       "      <td>123.000000</td>\n",
       "      <td>810.000000</td>\n",
       "      <td>21.000000</td>\n",
       "    </tr>\n",
       "    <tr>\n",
       "      <th>25%</th>\n",
       "      <td>21.000000</td>\n",
       "      <td>267.500000</td>\n",
       "      <td>0.000000</td>\n",
       "      <td>1.000000</td>\n",
       "      <td>4592.750000</td>\n",
       "      <td>67.000000</td>\n",
       "      <td>-0.146500</td>\n",
       "      <td>-8.024000</td>\n",
       "      <td>49.000000</td>\n",
       "      <td>291.050000</td>\n",
       "      <td>...</td>\n",
       "      <td>270.900000</td>\n",
       "      <td>295.600000</td>\n",
       "      <td>237.050000</td>\n",
       "      <td>70.440500</td>\n",
       "      <td>4529.000000</td>\n",
       "      <td>64.000000</td>\n",
       "      <td>15.205000</td>\n",
       "      <td>193.500000</td>\n",
       "      <td>1152.000000</td>\n",
       "      <td>29.000000</td>\n",
       "    </tr>\n",
       "    <tr>\n",
       "      <th>50%</th>\n",
       "      <td>24.000000</td>\n",
       "      <td>587.000000</td>\n",
       "      <td>0.000000</td>\n",
       "      <td>2.000000</td>\n",
       "      <td>5037.000000</td>\n",
       "      <td>80.000000</td>\n",
       "      <td>0.059000</td>\n",
       "      <td>3.967000</td>\n",
       "      <td>60.000000</td>\n",
       "      <td>296.200000</td>\n",
       "      <td>...</td>\n",
       "      <td>278.200000</td>\n",
       "      <td>304.500000</td>\n",
       "      <td>245.900000</td>\n",
       "      <td>70.850000</td>\n",
       "      <td>5379.000000</td>\n",
       "      <td>76.000000</td>\n",
       "      <td>16.280000</td>\n",
       "      <td>223.000000</td>\n",
       "      <td>1368.000000</td>\n",
       "      <td>33.000000</td>\n",
       "    </tr>\n",
       "    <tr>\n",
       "      <th>75%</th>\n",
       "      <td>27.000000</td>\n",
       "      <td>1038.000000</td>\n",
       "      <td>0.000000</td>\n",
       "      <td>4.000000</td>\n",
       "      <td>5349.750000</td>\n",
       "      <td>88.500000</td>\n",
       "      <td>0.237000</td>\n",
       "      <td>14.503000</td>\n",
       "      <td>70.000000</td>\n",
       "      <td>301.650000</td>\n",
       "      <td>...</td>\n",
       "      <td>283.950000</td>\n",
       "      <td>313.600000</td>\n",
       "      <td>253.100000</td>\n",
       "      <td>71.324000</td>\n",
       "      <td>6106.500000</td>\n",
       "      <td>87.000000</td>\n",
       "      <td>17.420000</td>\n",
       "      <td>251.000000</td>\n",
       "      <td>1566.000000</td>\n",
       "      <td>36.000000</td>\n",
       "    </tr>\n",
       "    <tr>\n",
       "      <th>max</th>\n",
       "      <td>32.000000</td>\n",
       "      <td>5617.000000</td>\n",
       "      <td>3.000000</td>\n",
       "      <td>11.000000</td>\n",
       "      <td>5607.000000</td>\n",
       "      <td>110.000000</td>\n",
       "      <td>0.862000</td>\n",
       "      <td>60.061000</td>\n",
       "      <td>92.000000</td>\n",
       "      <td>320.200000</td>\n",
       "      <td>...</td>\n",
       "      <td>302.600000</td>\n",
       "      <td>337.700000</td>\n",
       "      <td>275.700000</td>\n",
       "      <td>74.891000</td>\n",
       "      <td>7515.000000</td>\n",
       "      <td>107.000000</td>\n",
       "      <td>28.250000</td>\n",
       "      <td>330.000000</td>\n",
       "      <td>1926.000000</td>\n",
       "      <td>49.000000</td>\n",
       "    </tr>\n",
       "  </tbody>\n",
       "</table>\n",
       "<p>8 rows × 66 columns</p>\n",
       "</div>"
      ],
      "text/plain": [
       "       EVENTS_PLAYED       POINTS  NUMBER_OF_WINS  NUMBER_OF_TOP_Tens  \\\n",
       "count     195.000000   195.000000      195.000000          195.000000   \n",
       "mean       24.174359   745.974359        0.241026            2.651282   \n",
       "std         4.151805   700.518059        0.599277            2.201554   \n",
       "min        15.000000    10.000000        0.000000            0.000000   \n",
       "25%        21.000000   267.500000        0.000000            1.000000   \n",
       "50%        24.000000   587.000000        0.000000            2.000000   \n",
       "75%        27.000000  1038.000000        0.000000            4.000000   \n",
       "max        32.000000  5617.000000        3.000000           11.000000   \n",
       "\n",
       "       POINTS_BEHIND_LEAD  ROUNDS_PLAYED  SG_PUTTING_PER_ROUND  \\\n",
       "count          194.000000     195.000000            195.000000   \n",
       "mean          4896.262887      78.358974              0.051708   \n",
       "std            608.024609      14.039134              0.313897   \n",
       "min           2328.000000      46.000000             -0.750000   \n",
       "25%           4592.750000      67.000000             -0.146500   \n",
       "50%           5037.000000      80.000000              0.059000   \n",
       "75%           5349.750000      88.500000              0.237000   \n",
       "max           5607.000000     110.000000              0.862000   \n",
       "\n",
       "       TOTAL_SG:PUTTING  MEASURED_ROUNDS  AVG_Driving_DISTANCE  ...  \\\n",
       "count        195.000000       195.000000            195.000000  ...   \n",
       "mean           3.111672        59.928205            296.756923  ...   \n",
       "std           18.320074        13.997606              8.191270  ...   \n",
       "min          -42.673000        30.000000            278.400000  ...   \n",
       "25%           -8.024000        49.000000            291.050000  ...   \n",
       "50%            3.967000        60.000000            296.200000  ...   \n",
       "75%           14.503000        70.000000            301.650000  ...   \n",
       "max           60.061000        92.000000            320.200000  ...   \n",
       "\n",
       "       AVG_CARRY_DISTANCE  LONGEST_CARRY_DISTANCE  SHORTEST_CARRY_DISTANCE  \\\n",
       "count          195.000000              195.000000               195.000000   \n",
       "mean           278.155385              305.030769               244.854359   \n",
       "std             10.060564               12.552019                13.149478   \n",
       "min            249.800000              271.600000               192.800000   \n",
       "25%            270.900000              295.600000               237.050000   \n",
       "50%            278.200000              304.500000               245.900000   \n",
       "75%            283.950000              313.600000               253.100000   \n",
       "max            302.600000              337.700000               275.700000   \n",
       "\n",
       "        AVG_SCORE  TOTAL_STROKES  TOTAL_ROUNDS  MAKES_BOGEY%  BOGEYS_MADE  \\\n",
       "count  195.000000     195.000000    195.000000    195.000000   195.000000   \n",
       "mean    70.893369    5328.810256     75.497436     16.483897   222.194872   \n",
       "std      0.820646    1005.287126     14.465520      2.095008    41.704446   \n",
       "min     68.702000    3261.000000     45.000000     12.200000   123.000000   \n",
       "25%     70.440500    4529.000000     64.000000     15.205000   193.500000   \n",
       "50%     70.850000    5379.000000     76.000000     16.280000   223.000000   \n",
       "75%     71.324000    6106.500000     87.000000     17.420000   251.000000   \n",
       "max     74.891000    7515.000000    107.000000     28.250000   330.000000   \n",
       "\n",
       "       HOLES_PLAYED         AGE  \n",
       "count    195.000000  195.000000  \n",
       "mean    1359.000000   32.887179  \n",
       "std      260.378571    5.668469  \n",
       "min      810.000000   21.000000  \n",
       "25%     1152.000000   29.000000  \n",
       "50%     1368.000000   33.000000  \n",
       "75%     1566.000000   36.000000  \n",
       "max     1926.000000   49.000000  \n",
       "\n",
       "[8 rows x 66 columns]"
      ]
     },
     "execution_count": 38,
     "metadata": {},
     "output_type": "execute_result"
    }
   ],
   "source": [
    "golf.describe()"
   ]
  },
  {
   "cell_type": "markdown",
   "id": "594361a7-47dc-4bc4-89fc-914d29003939",
   "metadata": {},
   "source": [
    "Question 1: Is average driving distance associated with total amount of strokes a player takes."
   ]
  },
  {
   "cell_type": "code",
   "execution_count": 51,
   "id": "01d5932c-1451-4a2f-a9b3-4975a5f66f87",
   "metadata": {},
   "outputs": [
    {
     "data": {
      "image/png": "[encoded data removed]",
      "text/plain": [
       "<Figure size 640x480 with 1 Axes>"
      ]
     },
     "metadata": {},
     "output_type": "display_data"
    }
   ],
   "source": [
    "drive_stroke = golf[[\"AVG_Driving_DISTANCE\", 'TOTAL_STROKES']] #create a new dataframe that has the two columns of interest.\n",
    "\n",
    "#Create a scatter plot looking at the relationship between the two variables.\n",
    "plt.scatter(drive_stroke[\"AVG_Driving_DISTANCE\"], drive_stroke[\"TOTAL_STROKES\"])\n",
    "plt.xlabel(\"Average Player Driving Distance\")\n",
    "plt.ylabel(\"Total Strokes on the Year\")\n",
    "plt.show()"
   ]
  },
  {
   "cell_type": "markdown",
   "id": "242fb3e2-4d05-4ab7-8d52-a5ad90e6cf7e",
   "metadata": {},
   "source": [
    "At first glance, there doesn't seem to be very much correlation between the two variables and if there is one might expect higher average\n",
    "driving distances to have lower total strokes on the year but that doesn't seem to be what the scatter plot shows. I might be wrong about needing to hit\n",
    "400 yard bombs. Lets look into it a little more."
   ]
  },
  {
   "cell_type": "code",
   "execution_count": 58,
   "id": "7a8ccaa9-16ca-476b-ae38-08c852a78790",
   "metadata": {},
   "outputs": [
    {
     "name": "stdout",
     "output_type": "stream",
     "text": [
      "0.06888253372444468\n"
     ]
    }
   ],
   "source": [
    "correlation_matrix = np.corrcoef(drive_stroke[\"AVG_Driving_DISTANCE\"], drive_stroke[\"TOTAL_STROKES\"])\n",
    "correlation_coefficient = correlation_matrix[0,1]\n",
    "print(correlation_coefficient) #output: 0.068. Suggests a weak relationship."
   ]
  },
  {
   "cell_type": "markdown",
   "id": "05c76988-f6e6-417c-bebf-edcf2bfbc073",
   "metadata": {},
   "source": [
    "Average driving distance and Total strokes for the year didn't quite have the relationship one might expect, but it did lead me to another question.\n",
    "Is a golfers age associated with average driving distance?"
   ]
  },
  {
   "cell_type": "code",
   "execution_count": 63,
   "id": "68a4444f-d321-4f14-b2d0-80069cb7ce50",
   "metadata": {},
   "outputs": [
    {
     "data": {
      "image/png": "[encoded data removed]",
      "text/plain": [
       "<Figure size 640x480 with 1 Axes>"
      ]
     },
     "metadata": {},
     "output_type": "display_data"
    }
   ],
   "source": [
    "age_distance = golf[[\"AVG_Driving_DISTANCE\", \"AGE\"]]\n",
    "\n",
    "#Create a scatter plot looking at the relationship between the two variables.\n",
    "plt.scatter(age_distance[\"AGE\"], age_distance[\"AVG_Driving_DISTANCE\"])\n",
    "plt.xlabel(\"Players Age\")\n",
    "plt.ylabel(\"Average Driving Distance\")\n",
    "plt.show()"
   ]
  },
  {
   "cell_type": "code",
   "execution_count": 65,
   "id": "6dedc6c2-9cec-4924-bdce-0fbc1eafb30b",
   "metadata": {},
   "outputs": [
    {
     "name": "stdout",
     "output_type": "stream",
     "text": [
      "-0.2516427889810524\n"
     ]
    }
   ],
   "source": [
    "correlation_matrix = np.corrcoef(age_distance[\"AGE\"], age_distance[\"AVG_Driving_DISTANCE\"])\n",
    "correlation_coefficient = correlation_matrix[0,1]\n",
    "print(correlation_coefficient) #output: -0.2516 Suggests a weak inverse relationship."
   ]
  }
 ],
 "metadata": {
  "kernelspec": {
   "display_name": "Python [conda env:base] *",
   "language": "python",
   "name": "conda-base-py"
  },
  "language_info": {
   "codemirror_mode": {
    "name": "ipython",
    "version": 3
   },
   "file_extension": ".py",
   "mimetype": "text/x-python",
   "name": "python",
   "nbconvert_exporter": "python",
   "pygments_lexer": "ipython3",
   "version": "3.12.7"
  }
 },
 "nbformat": 4,
 "nbformat_minor": 5
}
